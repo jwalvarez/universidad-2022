{
 "cells": [
  {
   "cell_type": "markdown",
   "metadata": {},
   "source": [
    "## Cifrado por Sustitución\n",
    "Pasos para construir la solución\n",
    "1. Tomar texto de wikipedia y construir histograma en base a él\n",
    "2. Generar una llave privada (permutaciones)\n",
    "3. Tomar otro txto de wikipedia y lo cifran\n",
    "4. Construir histograma con texto cifrado\n",
    "5. Comparar ambos histogramas para encontrar la llave"
   ]
  },
  {
   "cell_type": "code",
   "execution_count": null,
   "metadata": {},
   "outputs": [],
   "source": [
    "# imports\n",
    "import random\n",
    "import numpy as np\n",
    "import matplotlib.pyplot as plt\n",
    "import re"
   ]
  },
  {
   "cell_type": "code",
   "execution_count": null,
   "metadata": {},
   "outputs": [],
   "source": [
    "# Funciones y variables\n",
    "A = r\"[^A-Za-z0-9 ]+\"\n",
    "\n",
    "# función para leer archivo\n",
    "def readTextFromFile(file):\n",
    "  with open(f'{file}', 'r') as f:\n",
    "    text = f.read()\n",
    "    text = re.sub(A, '', text)\n",
    "    return [*text]\n",
    "\n",
    "# funcion para cifrar\n",
    "def encrypt(plaintext, key):\n",
    "    ciphertext = ''\n",
    "    for i in range(len(plaintext)):\n",
    "        ciphertext += key[A.find(plaintext[i])]\n",
    "    return ciphertext"
   ]
  },
  {
   "cell_type": "code",
   "execution_count": null,
   "metadata": {},
   "outputs": [],
   "source": [
    "# 1. Tomar texto de wikipedia (medium*) y construir un histograma en base a él\n",
    "randomTextFromWikipedia1 = readTextFromFile(\"./wikipedia1\")\n",
    "\n",
    "# contrucción de eje (x) y eje (y) para texto no cifrado\n",
    "letters, counts = np.unique(randomTextFromWikipedia1, return_counts=True)"
   ]
  },
  {
   "cell_type": "code",
   "execution_count": null,
   "metadata": {},
   "outputs": [],
   "source": [
    "# 2. Generar una llave privada (permutaciones)\n",
    "\n",
    "# A = ' 0123456789ABCDHIJKLMOPRSTabcdefghiklmnopqrstuvwyz'\n",
    "A = ''.join(map(str, letters))\n",
    "PI = ''.join(random.sample(list(A),len(A)))  # random key \"permutation\"\n",
    "\n",
    "# print(A)\n",
    "# print(PI)"
   ]
  },
  {
   "cell_type": "code",
   "execution_count": null,
   "metadata": {},
   "outputs": [],
   "source": [
    "# Tomar otro texto de wikipedia y lo cifran\n",
    "  \n",
    "randomTextFromWikipedia2 = readTextFromFile(\"./wikipedia2\")\n",
    "\n",
    "# contrucción de eje (x) y eje (y) para texto cifrado\n",
    "encryptedText = encrypt(randomTextFromWikipedia2, PI)\n",
    "letters2, counts2 = np.unique([*encryptedText], return_counts=True)\n",
    "\n",
    "plt.figure(figsize=(16,8))\n",
    "plt.xlabel('Letras')\n",
    "plt.ylabel('Frecuencia')\n",
    "\n",
    "plt.bar(letters,counts,color='blue',edgecolor = \"black\", alpha=0.5)\n",
    "plt.bar(letters2,counts2,color='red',edgecolor = \"black\", alpha=0.5)\n",
    "\n",
    "plt.show()\n",
    "print(f'{A}\\n{PI}')"
   ]
  }
 ],
 "metadata": {
  "kernelspec": {
   "display_name": "Python 3.8.10 ('criptografia': venv)",
   "language": "python",
   "name": "python3"
  },
  "language_info": {
   "codemirror_mode": {
    "name": "ipython",
    "version": 3
   },
   "file_extension": ".py",
   "mimetype": "text/x-python",
   "name": "python",
   "nbconvert_exporter": "python",
   "pygments_lexer": "ipython3",
   "version": "3.8.10"
  },
  "orig_nbformat": 4,
  "vscode": {
   "interpreter": {
    "hash": "e26734978910a13d3f5596e8810d9d9cf0fd079d9875bd82628abf8e048cd4db"
   }
  }
 },
 "nbformat": 4,
 "nbformat_minor": 2
}
